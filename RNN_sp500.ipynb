{
 "cells": [
  {
   "cell_type": "code",
   "execution_count": 118,
   "metadata": {},
   "outputs": [],
   "source": [
    "%matplotlib inline"
   ]
  },
  {
   "cell_type": "code",
   "execution_count": 1,
   "metadata": {},
   "outputs": [
    {
     "name": "stderr",
     "output_type": "stream",
     "text": [
      "Using TensorFlow backend.\n"
     ]
    }
   ],
   "source": [
    "from keras.models import Sequential\n",
    "from keras.layers import Dense, Activation\n",
    "from keras.layers import LSTM"
   ]
  },
  {
   "cell_type": "code",
   "execution_count": 119,
   "metadata": {
    "collapsed": true
   },
   "outputs": [],
   "source": [
    "import pandas_datareader as pdr\n",
    "import pandas as pd\n",
    "from datetime import datetime\n",
    "import bs4 as bs\n",
    "import requests\n",
    "import os\n",
    "import numpy as np\n",
    "from sklearn.preprocessing import MinMaxScaler\n",
    "import matplotlib.pyplot as plt"
   ]
  },
  {
   "cell_type": "code",
   "execution_count": 3,
   "metadata": {
    "collapsed": true
   },
   "outputs": [],
   "source": [
    "class setup_data:\n",
    "    \n",
    "    def __init__(self):\n",
    "        \n",
    "        self.raw_df = None\n",
    "        self.tickers = None\n",
    "        self.scaler = MinMaxScaler()\n",
    "    \n",
    "    def get_sp500_tickers(self):\n",
    "        resp = requests.get('http://en.wikipedia.org/wiki/List_of_S%26P_500_companies')\n",
    "        soup = bs.BeautifulSoup(resp.text, 'lxml')\n",
    "        table = soup.find('table', {'class': 'wikitable sortable'})\n",
    "        tickers = []\n",
    "        for row in table.findAll('tr')[1:]:\n",
    "            ticker = row.findAll('td')[0].text\n",
    "            tickers.append(ticker)\n",
    "        self.tickers = tickers\n",
    "        return self\n",
    "\n",
    "    def get_data_from_yahoo(self, tkr, start):\n",
    "        tckr = pdr.DataReader(tkr, 'google', start)\n",
    "        return tckr\n",
    "\n",
    "    def pull_raw_data(self, start, end = None, write_path=None):\n",
    "        \n",
    "        if self.tickers is None:\n",
    "            self.get_sp500_tickers()\n",
    "            \n",
    "        if end is None:\n",
    "            end = datetime.now().strftime(\"%Y-%m-%d\")\n",
    "        \n",
    "        bad_tickers = {\"LMT\":\"NYSE:LMT\", 'NWL':'NYSE:NWL', 'NBL':'NYSE:NBL'}\n",
    "\n",
    "        self.raw_df = pd.DataFrame(index=pd.date_range(start, end)[::-1])\n",
    "        \n",
    "        for t in self.tickers:\n",
    "            if t in bad_tickers.keys():\n",
    "                t=bad_tickers[t]\n",
    "            one_ticker = self.get_data_from_yahoo(t, start)\n",
    "            self.raw_df = self.raw_df.merge(one_ticker.Close.to_frame(name=t), \n",
    "                                            left_index=True, right_index=True, how='left')\n",
    "\n",
    "        if write_path is not None:\n",
    "            if not os.path.exists(write_path):\n",
    "                os.makedirs(write_path)\n",
    "            fname = 'sp_500_{0}_{1}.csv'.format(start, end)\n",
    "            self.raw_df.to_csv(os.path.join(write_path, fname))\n",
    "        return self\n",
    "    \n",
    "    def read_raw_data(self, filename):\n",
    "        self.raw_df = pd.read_csv(filename, index_col=0)\n",
    "        self.tickers = self.raw_df.columns\n",
    "        return self\n",
    "    \n",
    "    def preprocess_stocks(self, df):\n",
    "        \n",
    "        # encode non-trading days as -1\n",
    "        df = df.fillna(-1)\n",
    "        df = pd.DataFrame(self.scaler.fit_transform(df), columns=df.columns)\n",
    "        \n",
    "        return df\n",
    "    \n",
    "    def transform_predictions(self, arr):\n",
    "        return self.scaler.inverse_transform(arr)\n",
    "    \n",
    "    def make_modeling_data(self, window=30, step=1):\n",
    "        \n",
    "        if self.raw_df is None:\n",
    "            raise Exception(\"Raw data needs to be loaded first by using pull_raw_data() or read_raw_data()\")\n",
    "        \n",
    "        df = self.preprocess_stocks(self.raw_df)\n",
    "        \n",
    "        # based on the previous window days, what is tomorrows's s&p 500 closing prices?\n",
    "        window_ = window + 1\n",
    "        num_samples = len(df)-window_\n",
    "        nstocks = len(df.columns)\n",
    "        M = np.zeros((num_samples, window_, nstocks), dtype=np.float32)\n",
    "        for i in range(0, num_samples):\n",
    "            M[i, :, :] = df.iloc[i:(i +window_)].to_dense()\n",
    "        X = M[:, 1:window_, :]\n",
    "        y = M[:, 0, :]\n",
    "        return X, y\n",
    "        "
   ]
  },
  {
   "cell_type": "code",
   "execution_count": 135,
   "metadata": {},
   "outputs": [],
   "source": [
    "setup = setup_data()\n",
    "# setup.pull_raw_data(start = '2006-01-01', write_path = '/home/andrew/data/stocks')\n",
    "setup.read_raw_data('/home/andrew/data/stocks/sp_500_2006-01-01_2017-06-22.csv')\n",
    "X, y = setup.make_modeling_data(window=30, step=1)\n",
    "date_to_int = {v:k for k, v in enumerate(setup.raw_df.index)}\n",
    "stock_to_int = {v:k for k, v in enumerate(setup.raw_df.columns)}\n",
    "\n",
    "train_end = '2017-05-23' # this means test begin is 2017-05-24"
   ]
  },
  {
   "cell_type": "code",
   "execution_count": 136,
   "metadata": {
    "collapsed": true
   },
   "outputs": [],
   "source": [
    "## training and test data\n",
    "ix_test = date_to_int[train_end]\n",
    "\n",
    "X_test = X[:days_test, :, :]\n",
    "X_train = X[days_test:, :, :]\n",
    "y_test = y[:days_test]\n",
    "y_train = y[days_test:]"
   ]
  },
  {
   "cell_type": "code",
   "execution_count": 6,
   "metadata": {
    "collapsed": true
   },
   "outputs": [],
   "source": [
    "# build the LSTM model\n",
    "model = Sequential()\n",
    "model.add(LSTM(128, input_shape=(X.shape[1], X.shape[2]), dropout=0.2))\n",
    "model.add(Dense(y.shape[1]))\n",
    "model.compile(loss='mean_squared_error', optimizer='adam')"
   ]
  },
  {
   "cell_type": "code",
   "execution_count": 7,
   "metadata": {},
   "outputs": [
    {
     "name": "stdout",
     "output_type": "stream",
     "text": [
      "Epoch 1/24\n",
      "4130/4130 [==============================] - 14s - loss: 0.0692    \n",
      "Epoch 2/24\n",
      "4130/4130 [==============================] - 15s - loss: 0.0243    \n",
      "Epoch 3/24\n",
      "4130/4130 [==============================] - 14s - loss: 0.0186    \n",
      "Epoch 4/24\n",
      "4130/4130 [==============================] - 13s - loss: 0.0157    - ETA: 1s - loss\n",
      "Epoch 5/24\n",
      "4130/4130 [==============================] - 13s - loss: 0.0149    \n",
      "Epoch 6/24\n",
      "4130/4130 [==============================] - 12s - loss: 0.0140    \n",
      "Epoch 7/24\n",
      "4130/4130 [==============================] - 13s - loss: 0.0138    \n",
      "Epoch 8/24\n",
      "4130/4130 [==============================] - 13s - loss: 0.0133    \n",
      "Epoch 9/24\n",
      "4130/4130 [==============================] - 13s - loss: 0.0128    \n",
      "Epoch 10/24\n",
      "4130/4130 [==============================] - 12s - loss: 0.0125    \n",
      "Epoch 11/24\n",
      "4130/4130 [==============================] - 13s - loss: 0.0127    \n",
      "Epoch 12/24\n",
      "4130/4130 [==============================] - 13s - loss: 0.0126    \n",
      "Epoch 13/24\n",
      "4130/4130 [==============================] - 13s - loss: 0.0120    \n",
      "Epoch 14/24\n",
      "4130/4130 [==============================] - 13s - loss: 0.0123    \n",
      "Epoch 15/24\n",
      "4130/4130 [==============================] - 12s - loss: 0.0116    \n",
      "Epoch 16/24\n",
      "4130/4130 [==============================] - 12s - loss: 0.0118    \n",
      "Epoch 17/24\n",
      "4130/4130 [==============================] - 12s - loss: 0.0114    \n",
      "Epoch 18/24\n",
      "4130/4130 [==============================] - 14s - loss: 0.0113    \n",
      "Epoch 19/24\n",
      "4130/4130 [==============================] - 13s - loss: 0.0104    \n",
      "Epoch 20/24\n",
      "4130/4130 [==============================] - 13s - loss: 0.0112    \n",
      "Epoch 21/24\n",
      "4130/4130 [==============================] - 13s - loss: 0.0099    \n",
      "Epoch 22/24\n",
      "4130/4130 [==============================] - 13s - loss: 0.0094    \n",
      "Epoch 23/24\n",
      "4130/4130 [==============================] - 12s - loss: 0.0094    \n",
      "Epoch 24/24\n",
      "4130/4130 [==============================] - 13s - loss: 0.0093    \n"
     ]
    },
    {
     "data": {
      "text/plain": [
       "<keras.callbacks.History at 0x7f0e6e7899b0>"
      ]
     },
     "execution_count": 7,
     "metadata": {},
     "output_type": "execute_result"
    }
   ],
   "source": [
    "model.fit(X_train, y_train,\n",
    "          batch_size=64,\n",
    "          epochs=24, \n",
    "          verbose=1)"
   ]
  },
  {
   "cell_type": "code",
   "execution_count": 182,
   "metadata": {},
   "outputs": [],
   "source": [
    "pred_dates = pd.date_range('2017-01-24', '2017-06-22')\n",
    "x_plt = []\n",
    "y_plt = []\n",
    "for d in pred_dates:\n",
    "    pred_day = date_to_int[d.strftime('%Y-%m-%d')]\n",
    "    preds = model.predict(X[pred_day:(pred_day+1)], verbose=0)\n",
    "    true = y[pred_day]\n",
    "    df = pd.DataFrame({'pred':setup.transform_predictions(preds.reshape(1, -1)).ravel(),\n",
    "                       'true':setup.transform_predictions(true.reshape(1, -1)).ravel()})\n",
    "    \n",
    "    if df['true'].max() < 0:\n",
    "        y_plt.append(np.NaN)\n",
    "        pass\n",
    "    else:\n",
    "        sse = sum( (df['pred'] - df['true'])**2 )\n",
    "        y_plt.append(np.sqrt(np.mean(sse)))\n",
    "    x_plt.append(d.date())"
   ]
  },
  {
   "cell_type": "code",
   "execution_count": 187,
   "metadata": {},
   "outputs": [
    {
     "data": {
      "image/png": "[encoded data removed]",
      "text/plain": [
       "<matplotlib.figure.Figure at 0x7f0e306782b0>"
      ]
     },
     "metadata": {},
     "output_type": "display_data"
    }
   ],
   "source": [
    "# errors by day\n",
    "fig, ax = plt.subplots(figsize=(9, 6))\n",
    "cmask = np.array(x_plt) > pd.to_datetime(train_end).date() # true if test data, false else\n",
    "\n",
    "test_plt, = ax.plot(np.array(x_plt)[cmask], np.array(y_plt)[cmask], color='red', label='Test')\n",
    "trn_plt, = ax.plot(np.array(x_plt)[~cmask], np.array(y_plt)[~cmask], color='blue', label='Train')\n",
    "plt.legend(handles=[trn_plt, test_plt], loc=1)\n",
    "plt.show()"
   ]
  },
  {
   "cell_type": "code",
   "execution_count": 196,
   "metadata": {},
   "outputs": [
    {
     "data": {
      "text/plain": [
       "<matplotlib.axes._subplots.AxesSubplot at 0x7f0e42fab7f0>"
      ]
     },
     "execution_count": 196,
     "metadata": {},
     "output_type": "execute_result"
    },
    {
     "data": {
      "image/png": "[encoded data removed]",
      "text/plain": [
       "<matplotlib.figure.Figure at 0x7f0e42fcf2e8>"
      ]
     },
     "metadata": {},
     "output_type": "display_data"
    }
   ],
   "source": [
    "# error by day of week\n",
    "pd.DataFrame({'day':[a.weekday() for a in x_plt], 'error':y_plt}).groupby('day').mean().plot(kind='bar')"
   ]
  },
  {
   "cell_type": "code",
   "execution_count": null,
   "metadata": {
    "collapsed": true
   },
   "outputs": [],
   "source": []
  }
 ],
 "metadata": {
  "kernelspec": {
   "display_name": "Python 3",
   "language": "python",
   "name": "python3"
  },
  "language_info": {
   "codemirror_mode": {
    "name": "ipython",
    "version": 3
   },
   "file_extension": ".py",
   "mimetype": "text/x-python",
   "name": "python",
   "nbconvert_exporter": "python",
   "pygments_lexer": "ipython3",
   "version": "3.6.1"
  }
 },
 "nbformat": 4,
 "nbformat_minor": 2
}
